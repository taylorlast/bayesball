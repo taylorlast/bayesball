{
 "cells": [
  {
   "cell_type": "code",
   "execution_count": 18,
   "metadata": {},
   "outputs": [],
   "source": [
    "import requests\n",
    "import json"
   ]
  },
  {
   "cell_type": "code",
   "execution_count": 43,
   "metadata": {},
   "outputs": [
    {
     "data": {
      "text/plain": [
       "\"http://lookup-service-prod.mlb.com/json/named.search_player_all.bam?sport_code='mlb'&active_sw={active_sw}&name_part={name_part}\""
      ]
     },
     "execution_count": 43,
     "metadata": {},
     "output_type": "execute_result"
    }
   ],
   "source": [
    "host = 'http://lookup-service-prod.mlb.com'\n",
    "endpoint = 'org_game_type_date_info'\n",
    "path = \"/json/named.search_player_all.bam?sport_code='mlb'&active_sw={active_sw}&name_part={name_part}\"\n",
    "\n",
    "url = host + path\n",
    "PARAMS = {'active_sw':'Y',\n",
    "             'name_part':'Fried'}\n",
    "header = {'Content-Type': 'application/json'}\n",
    "url"
   ]
  },
  {
   "cell_type": "code",
   "execution_count": 49,
   "metadata": {},
   "outputs": [
    {
     "data": {
      "text/plain": [
       "'{\\n   \"search_player_all\": {\\n      \"copyRight\": \" Copyright 2021 MLB Advanced Media, L.P.  Use of any content on this page acknowledges agreement to the terms posted here http://gdx.mlb.com/components/copyright.txt  \",\\n      \"queryResults\": {\\n         \"created\": \"2021-04-19T04:38:10\",\\n         \"totalSize\": \"6\",\\n         \"row\": [\\n            {\\n               \"position\": \"LF\",\\n               \"birth_country\": \"USA\",\\n               \"birth_state\": \"NJ\",\\n               \"weight\": \"195\",\\n               \"name_display_first_last\": \"Eric Young Jr.\",\\n               \"college\": \"Chandler-Gilbert CC, AZ\",\\n               \"height_inches\": \"10\",\\n               \"name_display_roster\": \"Young Jr.\",\\n               \"sport_code\": \"mlb\",\\n               \"bats\": \"S\",\\n               \"name_first\": \"Eric\",\\n               \"team_code\": \"bal\",\\n               \"birth_city\": \"New Brunswick\",\\n               \"height_feet\": \"5\",\\n               \"pro_debut_date\": \"2009-08-25T00:00:00\",\\n               \"team_full\": \"Baltimore Orioles\",\\n               \"team_abbrev\": \"BAL\",\\n               \"birth_date\": \"1985-05-25T00:00:00\",\\n               \"throws\": \"R\",\\n               \"league\": \"AL\",\\n               \"name_display_last_first\": \"Young Jr., Eric\",\\n               \"position_id\": \"7\",\\n               \"high_school\": \"Piscataway, NJ\",\\n               \"name_use\": \"Eric\",\\n               \"name_last\": \"Young Jr.\",\\n               \"team_id\": \"110\",\\n               \"service_years\": \"\",\\n               \"active_sw\": \"Y\"\\n            },\\n            {\\n               \"position\": \"P\",\\n               \"birth_country\": \"USA\",\\n               \"birth_state\": \"OH\",\\n               \"weight\": \"220\",\\n               \"name_display_first_last\": \"Alex Young\",\\n               \"college\": \"Texas Christian\",\\n               \"height_inches\": \"3\",\\n               \"name_display_roster\": \"Young, Al\",\\n               \"sport_code\": \"mlb\",\\n               \"bats\": \"L\",\\n               \"name_first\": \"Alex\",\\n               \"team_code\": \"ari\",\\n               \"birth_city\": \"Westlake\",\\n               \"height_feet\": \"6\",\\n               \"pro_debut_date\": \"2019-06-27T00:00:00\",\\n               \"team_full\": \"Arizona Diamondbacks\",\\n               \"team_abbrev\": \"ARI\",\\n               \"birth_date\": \"1993-09-09T00:00:00\",\\n               \"throws\": \"L\",\\n               \"league\": \"NL\",\\n               \"name_display_last_first\": \"Young, Alex\",\\n               \"position_id\": \"1\",\\n               \"high_school\": \"Carmel Catholic, Mundelein, IL\",\\n               \"name_use\": \"Alex\",\\n               \"name_last\": \"Young\",\\n               \"team_id\": \"109\",\\n               \"service_years\": \"\",\\n               \"active_sw\": \"Y\"\\n            },\\n            {\\n               \"position\": \"2B\",\\n               \"birth_country\": \"USA\",\\n               \"birth_state\": \"ND\",\\n               \"weight\": \"200\",\\n               \"name_display_first_last\": \"Andrew Young\",\\n               \"college\": \"Indiana State\",\\n               \"height_inches\": \"0\",\\n               \"name_display_roster\": \"Young\",\\n               \"sport_code\": \"mlb\",\\n               \"bats\": \"R\",\\n               \"name_first\": \"Andrew\",\\n               \"team_code\": \"ari\",\\n               \"birth_city\": \"West Fargo\",\\n               \"height_feet\": \"6\",\\n               \"pro_debut_date\": \"2020-08-01T00:00:00\",\\n               \"team_full\": \"Arizona Diamondbacks\",\\n               \"team_abbrev\": \"ARI\",\\n               \"birth_date\": \"1994-05-10T00:00:00\",\\n               \"throws\": \"R\",\\n               \"league\": \"NL\",\\n               \"name_display_last_first\": \"Young, Andrew\",\\n               \"position_id\": \"4\",\\n               \"high_school\": \"\",\\n               \"name_use\": \"Andrew\",\\n               \"name_last\": \"Young\",\\n               \"team_id\": \"109\",\\n               \"service_years\": \"\",\\n               \"active_sw\": \"Y\"\\n            },\\n            {\\n               \"position\": \"RF\",\\n               \"birth_country\": \"USA\",\\n               \"birth_state\": \"AL\",\\n               \"weight\": \"240\",\\n               \"name_display_first_last\": \"Delmon Young\",\\n               \"college\": \"\",\\n               \"height_inches\": \"3\",\\n               \"name_display_roster\": \"Young, D\",\\n               \"sport_code\": \"mlb\",\\n               \"bats\": \"R\",\\n               \"name_first\": \"Delmon\",\\n               \"team_code\": \"bal\",\\n               \"birth_city\": \"Montgomery\",\\n               \"height_feet\": \"6\",\\n               \"pro_debut_date\": \"2006-08-29T00:00:00\",\\n               \"team_full\": \"Baltimore Orioles\",\\n               \"team_abbrev\": \"BAL\",\\n               \"birth_date\": \"1985-09-14T00:00:00\",\\n               \"throws\": \"R\",\\n               \"league\": \"AL\",\\n               \"name_display_last_first\": \"Young, Delmon\",\\n               \"position_id\": \"9\",\\n               \"high_school\": \"Adolfo Camarillo, Camarillo, CA\",\\n               \"name_use\": \"Delmon\",\\n               \"name_last\": \"Young\",\\n               \"team_id\": \"110\",\\n               \"service_years\": \"\",\\n               \"active_sw\": \"Y\"\\n            },\\n            {\\n               \"position\": \"1B\",\\n               \"birth_country\": \"USA\",\\n               \"birth_state\": \"MI\",\\n               \"weight\": \"230\",\\n               \"name_display_first_last\": \"Kevin Young\",\\n               \"college\": \"Southern Mississippi\",\\n               \"height_inches\": \"3\",\\n               \"name_display_roster\": \"Young\",\\n               \"sport_code\": \"mlb\",\\n               \"bats\": \"R\",\\n               \"name_first\": \"Kevin\",\\n               \"team_code\": \"pit\",\\n               \"birth_city\": \"Alpena\",\\n               \"height_feet\": \"6\",\\n               \"pro_debut_date\": \"1992-07-12T00:00:00\",\\n               \"team_full\": \"Pittsburgh Pirates\",\\n               \"team_abbrev\": \"PIT\",\\n               \"birth_date\": \"1969-06-16T00:00:00\",\\n               \"throws\": \"R\",\\n               \"league\": \"NL\",\\n               \"name_display_last_first\": \"Young, Kevin\",\\n               \"position_id\": \"3\",\\n               \"high_school\": \"Washington, Kansas City, KS\",\\n               \"name_use\": \"Kevin\",\\n               \"name_last\": \"Young\",\\n               \"team_id\": \"134\",\\n               \"service_years\": \"\",\\n               \"active_sw\": \"Y\"\\n            },\\n            {\\n               \"position\": \"P\",\\n               \"birth_country\": \"USA\",\\n               \"birth_state\": \"GA\",\\n               \"weight\": \"209\",\\n               \"name_display_first_last\": \"Madison Younginer\",\\n               \"college\": \"\",\\n               \"height_inches\": \"3\",\\n               \"name_display_roster\": \"Younginer\",\\n               \"sport_code\": \"mlb\",\\n               \"bats\": \"R\",\\n               \"name_first\": \"Madison\",\\n               \"team_code\": \"atl\",\\n               \"birth_city\": \"Augusta\",\\n               \"height_feet\": \"6\",\\n               \"pro_debut_date\": \"2016-08-07T00:00:00\",\\n               \"team_full\": \"Atlanta Braves\",\\n               \"team_abbrev\": \"ATL\",\\n               \"birth_date\": \"1990-11-03T00:00:00\",\\n               \"throws\": \"R\",\\n               \"league\": \"NL\",\\n               \"name_display_last_first\": \"Younginer, Madison\",\\n               \"position_id\": \"1\",\\n               \"high_school\": \"Mauldin, SC\",\\n               \"name_use\": \"Madison\",\\n               \"name_last\": \"Younginer\",\\n               \"team_id\": \"144\",\\n               \"service_years\": \"\",\\n               \"active_sw\": \"Y\"\\n            }\\n         ]\\n      }\\n   }\\n}'"
      ]
     },
     "execution_count": 49,
     "metadata": {},
     "output_type": "execute_result"
    }
   ],
   "source": [
    "response = requests.get(url=\"http://lookup-service-prod.mlb.com/json/named.search_player_all.bam?sport_code='mlb'&active_sw='Y'&name_part='young%'&search_player_all.col_ex=player_id\",\n",
    "#                        params = PARAMS,\n",
    "                       headers = header)\n",
    "\n",
    "baseball_data = response.json()\n",
    "\n",
    "json.dumps(baseball_data,indent=3)"
   ]
  },
  {
   "cell_type": "code",
   "execution_count": null,
   "metadata": {},
   "outputs": [],
   "source": []
  }
 ],
 "metadata": {
  "kernelspec": {
   "display_name": "Python 3",
   "language": "python",
   "name": "python3"
  },
  "language_info": {
   "codemirror_mode": {
    "name": "ipython",
    "version": 3
   },
   "file_extension": ".py",
   "mimetype": "text/x-python",
   "name": "python",
   "nbconvert_exporter": "python",
   "pygments_lexer": "ipython3",
   "version": "3.8.3"
  }
 },
 "nbformat": 4,
 "nbformat_minor": 4
}
